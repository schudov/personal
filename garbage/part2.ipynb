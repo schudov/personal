{
 "cells": [
  {
   "cell_type": "code",
   "execution_count": 1,
   "metadata": {},
   "outputs": [
    {
     "name": "stderr",
     "output_type": "stream",
     "text": [
      "Using TensorFlow backend.\n"
     ]
    }
   ],
   "source": [
    "import tensorflow as tf\n",
    "tf.reset_default_graph()\n",
    "sess = tf.InteractiveSession()\n",
    "import keras as k\n",
    "import os\n",
    "from glob import glob\n",
    "import re\n",
    "import numpy as np"
   ]
  },
  {
   "cell_type": "code",
   "execution_count": 2,
   "metadata": {},
   "outputs": [
    {
     "name": "stdout",
     "output_type": "stream",
     "text": [
      "/home/ubuntu\r\n"
     ]
    }
   ],
   "source": [
    "!pwd\n",
    "os.chdir('/home/ubuntu/txt')\n"
   ]
  },
  {
   "cell_type": "code",
   "execution_count": 3,
   "metadata": {},
   "outputs": [],
   "source": [
    "langs = glob('*')\n",
    "data = []\n",
    "for lang in langs:\n",
    "    os.chdir(lang)\n",
    "    files = glob('*')\n",
    "    counter = 0\n",
    "    for file in files:\n",
    "        with open(file) as f:\n",
    "            temp = f.readlines()\n",
    "            for line in temp:\n",
    "                if line[0] != '<':\n",
    "                        line = re.sub(r'\\([CLPNRFHEISDB][GKLNRVEUAISTO]\\)', '', line)    #remove speaker lang annotantions\n",
    "                        line = re.sub(r'[\\xad\\xa0\\u200b\\u202c\\u202e\\u202a\\u202d�]', '', line) #remove invisible chars\n",
    "                        if line[0] != '(':\n",
    "                            if re.search(r'[眠舃舣脘舉]', line) == None:  #drop sentences with chinese chars\n",
    "                                if line[0].isupper() == False:   #try to fix lines which start with lowercase\n",
    "                                    temp2 = line.strip().split('. ')\n",
    "                                    if len(temp2) > 1:\n",
    "                                        line = ''.join([x + '. ' if i != len(temp2) -2 else x for i,x in enumerate(temp2[1:]) ])\n",
    "                                if line[0].isupper() and len(line) > 10 and len(line) < 300:\n",
    "                                    data.append((lang, line.strip()))\n",
    "    os.chdir('..')\n"
   ]
  },
  {
   "cell_type": "code",
   "execution_count": 4,
   "metadata": {},
   "outputs": [
    {
     "name": "stdout",
     "output_type": "stream",
     "text": [
      "2981374\n"
     ]
    }
   ],
   "source": [
    "np.random.shuffle(data)\n",
    "np.random.shuffle(data)\n",
    "print(len(data))\n",
    "unique_letters = set()\n",
    "for i in range(len(data)):\n",
    "    unique_letters.update(set(data[i][1]))"
   ]
  },
  {
   "cell_type": "code",
   "execution_count": 5,
   "metadata": {},
   "outputs": [],
   "source": [
    "train = data[:2000000] #2kk train\n",
    "val = data[2000000:2500000] #500K validation\n",
    "test = data[2500000:]\n",
    "del data\n",
    "keys_to_letters = dict(zip(range(len(unique_letters)), list(unique_letters)))\n",
    "letters_to_keys = {val:key for key,val in keys_to_letters.items()}\n",
    "punctuation = [key for key, item in keys_to_letters.items() if item in [' ', '.', ','] ]\n",
    "key_to_lang = dict(zip(range(len(langs)), langs))\n",
    "lang_to_key = {val:key for key,val in key_to_lang.items()}\n"
   ]
  },
  {
   "cell_type": "code",
   "execution_count": 6,
   "metadata": {},
   "outputs": [],
   "source": [
    "def letter_to_onehot(letter):\n",
    "    return np.eye(LETTERS_NUM)[letters_to_keys[letter]]\n",
    "\n",
    "def letter_from_onehot(vec):\n",
    "    idx = np.argmax(vec)\n",
    "    return keys_to_letters[idx]"
   ]
  },
  {
   "cell_type": "code",
   "execution_count": 7,
   "metadata": {},
   "outputs": [],
   "source": [
    "\n",
    "LETTERS_NUM = len(unique_letters)\n",
    "LANGS_NUM = len(langs)\n",
    "\n",
    "INPUT_WINDOW_SIZE = 10"
   ]
  },
  {
   "cell_type": "code",
   "execution_count": 8,
   "metadata": {},
   "outputs": [],
   "source": [
    "index_train = 0\n",
    "index_val = 0\n",
    "index_test = 0\n",
    "def gen_data(idx, mode='train',):\n",
    "    gen_data = []\n",
    "    lang_n = -1\n",
    "    letter = []\n",
    "    punct = []\n",
    "    real = []\n",
    "    gan = 0\n",
    "    data_onehot = []\n",
    "\n",
    "        \n",
    "    if mode =='train':\n",
    "        lang, gen_data = train[idx]\n",
    "        data_onehot = [letter_to_onehot(x) for x in gen_data]\n",
    "    elif mode == 'validation':\n",
    "        lang, gen_data = val[idx]\n",
    "        data_onehot = [letter_to_onehot(x) for x in gen_data]\n",
    "    else:\n",
    "        lang, gen_data = test[idx]\n",
    "        \n",
    "        data_onehot = [letter_to_onehot(x) for x in gen_data]\n",
    "        #make frames of data\n",
    "    \n",
    "    n_frames = len(gen_data) - INPUT_WINDOW_SIZE + 1\n",
    "    \n",
    "        \n",
    "    input_frames = []\n",
    "    #np.zeros((n_frames, INPUT_WINDOW_SIZE*LETTERS_NUM))\n",
    "    lang = [np.eye(LANGS_NUM)[lang_to_key[lang]] for _ in range(n_frames)]\n",
    "    #np.ones((n_frames,LANGS_NUM)) * np.eye(LANGS_NUM)[lang_to_key[lang]]\n",
    "    \n",
    "    for i in range(n_frames):\n",
    "        input_frames.append(np.concatenate(data_onehot[i: i+INPUT_WINDOW_SIZE], axis=0))\n",
    "            \n",
    "        \n",
    "        \n",
    "    return input_frames, lang"
   ]
  },
  {
   "cell_type": "code",
   "execution_count": 9,
   "metadata": {},
   "outputs": [
    {
     "name": "stdout",
     "output_type": "stream",
     "text": [
      "4180\n",
      "281\n"
     ]
    }
   ],
   "source": [
    "a,b = gen_data(1, mode='validation')\n",
    "print(len(a[0]))\n",
    "print(len(a))"
   ]
  },
  {
   "cell_type": "code",
   "execution_count": 13,
   "metadata": {},
   "outputs": [
    {
     "name": "stdout",
     "output_type": "stream",
     "text": [
      "_________________________________________________________________\n",
      "Layer (type)                 Output Shape              Param #   \n",
      "=================================================================\n",
      "input_2 (InputLayer)         (1, 4180)                 0         \n",
      "_________________________________________________________________\n",
      "dense_4 (Dense)              (1, 128)                  535168    \n",
      "_________________________________________________________________\n",
      "reshape_2 (Reshape)          (1, 1, 128)               0         \n",
      "_________________________________________________________________\n",
      "lstm_3 (LSTM)                (1, 1, 128)               131584    \n",
      "_________________________________________________________________\n",
      "lstm_4 (LSTM)                (1, 1, 128)               131584    \n",
      "_________________________________________________________________\n",
      "time_distributed_2 (TimeDist (1, 1, 64)                8256      \n",
      "_________________________________________________________________\n",
      "dense_6 (Dense)              (1, 1, 21)                1365      \n",
      "=================================================================\n",
      "Total params: 807,957\n",
      "Trainable params: 807,957\n",
      "Non-trainable params: 0\n",
      "_________________________________________________________________\n"
     ]
    }
   ],
   "source": [
    "def simple():\n",
    "    \n",
    "    inputs = k.Input(batch_shape=(1, LETTERS_NUM*INPUT_WINDOW_SIZE))\n",
    "    encode = k.layers.Dense(128, activation='elu')(inputs)\n",
    "    reshape = k.layers.Reshape((1,-1))(encode)\n",
    "    lstm1 = k.layers.LSTM(128, activation='elu', recurrent_activation='tanh', return_sequences=True, stateful=True)(reshape)\n",
    "    lstm2 = k.layers.LSTM(128, activation='tanh', recurrent_activation='tanh', return_sequences=True, stateful=True)(lstm1)\n",
    "    preout = k.layers.TimeDistributed(k.layers.Dense(64, activation='elu'))(lstm2)\n",
    "    out = k.layers.Dense(LANGS_NUM, activation='softmax')(preout)\n",
    "    \n",
    "    model = k.models.Model(inputs=inputs, outputs=out)\n",
    "    adam = k.optimizers.Adam(lr=3e-4)#, amsgrad=True)\n",
    "    model.compile(loss='categorical_crossentropy', optimizer=adam, metrics=['accuracy'])\n",
    "    model.summary()\n",
    "    return model\n",
    "\n",
    "lang4 = simple()"
   ]
  },
  {
   "cell_type": "code",
   "execution_count": 14,
   "metadata": {},
   "outputs": [],
   "source": [
    "def data_generator(n, mode='train'):\n",
    "    if mode=='validation':\n",
    "        while True:\n",
    "            n = np.random.randint(0,len(val))\n",
    "            temp = gen_data(n, mode=mode)\n",
    "            \n",
    "            for q in range(len(temp[0])):\n",
    "                yield tuple((np.array([temp[0][q]]), np.array([[temp[1][q]]])))\n",
    "    elif mode=='train':\n",
    "        temp = gen_data(n, mode=mode)\n",
    "        for q in range(len(temp[0])):\n",
    "                yield tuple((np.array([temp[0][q]]), np.array([[temp[1][q]]])))\n",
    "        \n",
    "\n",
    "\n",
    "import matplotlib.pyplot as plt\n",
    "%matplotlib inline\n",
    "from IPython import display\n",
    "\n",
    "\n",
    "\n",
    "class History(k.callbacks.Callback):\n",
    "    def on_train_begin(self, logs={}):\n",
    "        self.acc = []\n",
    "        self.loss = []\n",
    "    def on_train_end(self, logs={}):\n",
    "        return\n",
    "\n",
    "    def on_epoch_begin(self, epoch, logs={}):\n",
    "        return\n",
    "\n",
    "    def on_epoch_end(self, epoch, logs={}):\n",
    "        self.acc.append(logs.get('acc'))\n",
    "        \n",
    "        \n",
    "        \n",
    "        return\n",
    "\n",
    "    def on_batch_begin(self, batch, logs={}):\n",
    "        return\n",
    "\n",
    "    def on_batch_end(self, batch, logs={}):\n",
    "        self.loss.append(logs.get('loss'))\n",
    "\n",
    "        return\n",
    "callback = History()\n"
   ]
  },
  {
   "cell_type": "code",
   "execution_count": null,
   "metadata": {
    "scrolled": false
   },
   "outputs": [
    {
     "data": {
      "image/png": "[encoded data removed]",
      "text/plain": [
       "<Figure size 1080x504 with 2 Axes>"
      ]
     },
     "metadata": {},
     "output_type": "display_data"
    }
   ],
   "source": [
    "fig, axs = plt.subplots(2,1, figsize=(15,7))\n",
    "\n",
    "train_loss_hist = [3]\n",
    "val_loss_hist = [3]\n",
    "train_acc_hist = []\n",
    "val_acc_hist = []\n",
    "train_len = len(train)//1000\n",
    "for i in range(train_len):\n",
    "    validate = None\n",
    "    rand_index = np.random.randint(0, train_len)\n",
    "    n_steps = np.array(np.array(gen_data(rand_index)).shape[1])\n",
    "    #if i%100 == 0:\n",
    "    validate = data_generator(1, mode='validation')\n",
    "    train_gen = data_generator(rand_index)\n",
    "    hist = lang4.fit_generator(train_gen, steps_per_epoch=n_steps, epochs=1, verbose=0, \\\n",
    "                             validation_data=validate, validation_steps=10, \\\n",
    "                             shuffle=False)\n",
    "    lang4.reset_states()\n",
    "    if validate != None:\n",
    "\n",
    "        train_loss_hist.append(train_loss_hist[-1]*0.8 + 0.2*(hist.history['loss'][0]))\n",
    "        train_acc_hist.append(hist.history['acc'][0])\n",
    "        val_loss_hist.append(hist.history['val_loss'][0])\n",
    "        val_acc_hist.append(hist.history['val_acc'][0])\n",
    "        axs[0].plot(train_loss_hist, color='green')\n",
    "        axs[0].plot(val_loss_hist,color='yellow')\n",
    "        axs[0].legend(\"TV\",loc=\"upper right\")\n",
    "        axs[1].plot(train_acc_hist,color='green')\n",
    "        axs[1].plot(val_acc_hist, color='yellow')\n",
    "        axs[1].legend(\"TV\",loc=\"upper right\")\n",
    "        display.clear_output(wait=True)\n",
    "        display.display(plt.gcf())"
   ]
  },
  {
   "cell_type": "markdown",
   "metadata": {},
   "source": [
    "#### Appanrently, keras stateful lstm does NOT backprob between subsequent inputs, only state is preserved.\n",
    "#### And training is also very slow (backprob through a paragraph and evaluation takes ~2 seconds)"
   ]
  },
  {
   "cell_type": "markdown",
   "metadata": {},
   "source": [
    "Don't have time to tune learning rate, choose optimizer, or number of layers/neurons\n",
    "\n",
    "Should've probably considered more orthodox approach with splitting the paragraphs into sentences and padding, to train in batches.\n"
   ]
  },
  {
   "cell_type": "code",
   "execution_count": null,
   "metadata": {},
   "outputs": [],
   "source": []
  }
 ],
 "metadata": {
  "kernelspec": {
   "display_name": "Environment (conda_tensorflow_p36)",
   "language": "python",
   "name": "conda_tensorflow_p36"
  },
  "language_info": {
   "codemirror_mode": {
    "name": "ipython",
    "version": 3
   },
   "file_extension": ".py",
   "mimetype": "text/x-python",
   "name": "python",
   "nbconvert_exporter": "python",
   "pygments_lexer": "ipython3",
   "version": "3.6.5"
  }
 },
 "nbformat": 4,
 "nbformat_minor": 2
}
