{
 "cells": [
  {
   "cell_type": "code",
   "execution_count": 1,
   "metadata": {},
   "outputs": [],
   "source": [
    "from __future__ import print_function, division\n",
    "from IPython.core import display\n",
    "import matplotlib.pyplot as plt\n",
    "%matplotlib inline\n",
    "import numpy as np\n",
    "\n",
    "#If you are running on a server, launch xvfb to record game videos\n",
    "#Please make sure you have xvfb installed\n",
    "import os\n",
    "if os.environ.get(\"DISPLAY\") is str and len(os.environ.get(\"DISPLAY\"))!=0:\n",
    "    !bash ../xvfb start\n",
    "    %env DISPLAY=:1\n",
    "      \n",
    "#!python3 -m pip install gym[atari]\n",
    "\n",
    "import numpy as np\n",
    "import gym\n",
    "from scipy.misc import imresize\n",
    "from gym.core import Wrapper\n",
    "from gym.spaces.box import Box\n",
    "import cv2\n",
    "\n"
   ]
  },
  {
   "cell_type": "code",
   "execution_count": 2,
   "metadata": {},
   "outputs": [],
   "source": [
    "import numpy as np\n",
    "import gym\n",
    "from scipy.misc import imresize\n",
    "from gym.core import Wrapper\n",
    "from gym.spaces.box import Box\n",
    "\n",
    "class PreprocessAtari(Wrapper):\n",
    "    def __init__(self, env, height=42, width=42, color=False, crop=lambda img: img, \n",
    "                 n_frames=4, dim_order='theano', reward_scale=1,):\n",
    "        \"\"\"A gym wrapper that reshapes, crops and scales image into the desired shapes\"\"\"\n",
    "        super(PreprocessAtari, self).__init__(env)\n",
    "        assert dim_order in ('theano', 'tensorflow')\n",
    "        self.img_size = (height, width)\n",
    "        self.crop=crop\n",
    "        self.color=color\n",
    "        self.dim_order = dim_order\n",
    "        self.reward_scale = reward_scale\n",
    "        \n",
    "        n_channels = (3 * n_frames) if color else n_frames\n",
    "        obs_shape = [n_channels,height,width] if dim_order == 'theano' else [height,width,n_channels]\n",
    "        self.observation_space = Box(0.0, 1.0, obs_shape)\n",
    "        self.framebuffer = np.zeros(obs_shape, 'float32')\n",
    "        \n",
    "    def reset(self):\n",
    "        \"\"\"resets breakout, returns initial frames\"\"\"\n",
    "        self.framebuffer = np.zeros_like(self.framebuffer)\n",
    "        self.update_buffer(self.env.reset())\n",
    "        return self.framebuffer\n",
    "    \n",
    "    def step(self,action):\n",
    "        \"\"\"plays breakout for 1 step, returns frame buffer\"\"\"\n",
    "        new_img, reward, done, info = self.env.step(action)\n",
    "        self.update_buffer(new_img)\n",
    "        return self.framebuffer, reward * self.reward_scale, done, info\n",
    "    \n",
    "    ### image processing ###\n",
    "    \n",
    "    def update_buffer(self,img):\n",
    "        img = self.preproc_image(img)\n",
    "        offset = 3 if self.color else 1\n",
    "        if self.dim_order == 'theano':\n",
    "            axis = 0\n",
    "            cropped_framebuffer = self.framebuffer[:-offset]\n",
    "        else:\n",
    "            axis = -1\n",
    "            cropped_framebuffer = self.framebuffer[:,:,:-offset]\n",
    "        self.framebuffer = np.concatenate([img, cropped_framebuffer], axis = axis)\n",
    "\n",
    "    def preproc_image(self, img):\n",
    "        \"\"\"what happens to the observation\"\"\"\n",
    "        img = self.crop(img)\n",
    "        #img = imresize(img, self.img_size)\n",
    "        img = cv2.resize(img, self.img_size)\n",
    "        if not self.color:\n",
    "            img = img.mean(-1, keepdims=True)\n",
    "        if self.dim_order == 'theano':\n",
    "            img = img.transpose([2,0,1]) # [h, w, c] to [c, h, w]\n",
    "        img = img.astype('float32') / 255.\n",
    "        return img\n"
   ]
  },
  {
   "cell_type": "code",
   "execution_count": 3,
   "metadata": {},
   "outputs": [
    {
     "name": "stderr",
     "output_type": "stream",
     "text": [
      "/home/mew/.local/lib/python3.6/site-packages/gym/envs/registration.py:14: PkgResourcesDeprecationWarning: Parameters to load are deprecated.  Call .resolve and .require separately.\n",
      "  result = entry_point.load(False)\n"
     ]
    },
    {
     "name": "stdout",
     "output_type": "stream",
     "text": [
      "\u001b[33mWARN: gym.spaces.Box autodetected dtype as <class 'numpy.float32'>. Please provide explicit dtype.\u001b[0m\n",
      "Observation shape: (81, 81, 4)\n",
      "Num actions: 4\n",
      "Action names: ['NOOP', 'FIRE', 'RIGHT', 'LEFT']\n"
     ]
    }
   ],
   "source": [
    "import gym\n",
    "#from atari_util import PreprocessAtari\n",
    "\n",
    "\n",
    "def make_env():\n",
    "    env = gym.make(\"BreakoutDeterministic-v4\")\n",
    "    env = PreprocessAtari(env, height=81, width=81,\n",
    "                          crop = lambda img: img[32:-10,8:-8,:],#[60:-30, 5:],\n",
    "                          dim_order = 'tensorflow',\n",
    "                          color=False, n_frames=4,\n",
    "                          reward_scale = 1)\n",
    "    return env\n",
    "\n",
    "env = make_env()\n",
    "\n",
    "obs_shape = env.observation_space.shape\n",
    "n_actions = env.action_space.n\n",
    "\n",
    "print(\"Observation shape:\", obs_shape)\n",
    "print(\"Num actions:\", n_actions)\n",
    "print(\"Action names:\", env.env.env.get_action_meanings())"
   ]
  },
  {
   "cell_type": "code",
   "execution_count": 4,
   "metadata": {},
   "outputs": [
    {
     "data": {
      "image/png": "[encoded data removed]",
      "text/plain": [
       "<Figure size 432x288 with 1 Axes>"
      ]
     },
     "metadata": {},
     "output_type": "display_data"
    },
    {
     "name": "stdout",
     "output_type": "stream",
     "text": [
      "(81, 81, 4)\n"
     ]
    },
    {
     "data": {
      "image/png": "[encoded data removed]",
      "text/plain": [
       "<Figure size 432x288 with 1 Axes>"
      ]
     },
     "metadata": {},
     "output_type": "display_data"
    }
   ],
   "source": [
    "s = env.reset()\n",
    "for _ in range(100):\n",
    "  s, _, _, _ = env.step(env.action_space.sample())\n",
    "\n",
    "plt.title('Game image')\n",
    "plt.imshow(env.render('rgb_array'))\n",
    "plt.show()\n",
    "print(s.shape)\n",
    "plt.title('Agent observation (4-frame buffer)')\n",
    "plt.imshow(s.transpose([0,2,1]).reshape([81,-1]))\n",
    "plt.show()"
   ]
  },
  {
   "cell_type": "code",
   "execution_count": 5,
   "metadata": {},
   "outputs": [
    {
     "name": "stderr",
     "output_type": "stream",
     "text": [
      "Using TensorFlow backend.\n"
     ]
    }
   ],
   "source": [
    "import tensorflow as tf\n",
    "tf.reset_default_graph()\n",
    "sess = tf.InteractiveSession()\n",
    "import keras as k\n",
    "from keras.layers import Conv2D, Dense, Flatten, Reshape, LSTM, GRU, TimeDistributed"
   ]
  },
  {
   "cell_type": "code",
   "execution_count": 6,
   "metadata": {},
   "outputs": [],
   "source": [
    "class Agent:\n",
    "    def __init__(self, name, state_shape, n_actions, reuse=False):\n",
    "        \"\"\"A simple actor-critic agent\"\"\"\n",
    "        \n",
    "        with tf.variable_scope(name, reuse=reuse):\n",
    "            self.state_t = tf.placeholder('float32', [1,] + list(state_shape))\n",
    "            \n",
    "            \n",
    "            # Prepare neural network architecture\n",
    "            ### Your code here: prepare any necessary layers, variables, etc.\n",
    "            #input_var = tf.placeholder('float32', )\n",
    "            inputs = k.layers.Input(tensor=self.state_t)\n",
    "            conv = Conv2D(64,(3,3),strides=3, activation='elu', input_shape = state_shape)(self.state_t)\n",
    "            conv = Conv2D(128,(3,3),strides=3, activation='elu')(conv)\n",
    "            conv = Conv2D(256,(3,3),strides=3, activation='elu')(conv)\n",
    "            conv = Flatten()(conv)\n",
    "            #conv = Dense(1024, activation='elu')(conv)\n",
    "            #net.add(Dense(1024, activation='elu'))\n",
    "            #net.add(k.layers.Dropout(0.1))\n",
    "\n",
    "            preaction = Dense(256, activation='elu')(conv)\n",
    "            preqval = Dense(256, activation='elu')(conv)\n",
    "            \n",
    "            shared_base = k.layers.Multiply()([preqval, preaction])\n",
    "            \n",
    "            \n",
    "            preqval = k.layers.concatenate([preqval, shared_base])\n",
    "            preqval = Reshape((1,-1))(preqval)\n",
    "            preqval = LSTM(64, activation='tanh', recurrent_activation='tanh', return_sequences=True, stateful=True)(preqval)\n",
    "            preqval = TimeDistributed(Dense(32, activation='elu'))(preqval)\n",
    "            \n",
    "            preaction = k.layers.concatenate([shared_base, preaction])\n",
    "            preaction = k.layers.Reshape((1,-1))(preaction)\n",
    "            preaction = Dense(128,activation='elu')(preaction)\n",
    "            preaction = Dense(64,activation='elu')(preaction)\n",
    "            preaction = Dense(32,activation='elu')(preaction)\n",
    "            \n",
    "            preleft = Dense(16, activation='elu')(preqval)\n",
    "            preright = Dense(16, activation='elu')(preaction)\n",
    "            premiddle = k.layers.concatenate([preleft, preright])\n",
    "            premiddle = LSTM(16, activation='tanh', recurrent_activation='tanh', return_sequences=True, stateful=True)(premiddle)\n",
    "            premiddle = TimeDistributed(Dense(16, activation='elu'))(premiddle)\n",
    "            \n",
    "            midqval = k.layers.concatenate([preqval, premiddle])\n",
    "            midqval = Dense(32, activation='elu')(midqval)\n",
    "            midqval = LSTM(16, activation='tanh',recurrent_activation='tanh', return_sequences=True, stateful=True)(midqval)\n",
    "            midqval = TimeDistributed(Dense(32, activation = 'elu'))(midqval)\n",
    "            \n",
    "            \n",
    "            action = k.layers.Multiply()([preaction, midqval])\n",
    "            action = k.layers.concatenate([premiddle, action])\n",
    "            action = Dense(128, activation='tanh')(action)\n",
    "            action = Dense(64, activation='elu')(action)\n",
    "            action = Dense(64, activation = 'elu')(action)\n",
    "            action = Dense(32, activation='tanh')(action)\n",
    "            action = Dense(32, activation='elu')(action)\n",
    "            action = Dense(n_actions)(action)\n",
    "            \n",
    "            middle = k.layers.Multiply()([preaction, preqval])\n",
    "            middle = k.layers.concatenate([middle, premiddle])\n",
    "            middle = Dense(32, activation='elu')(middle)\n",
    "            middle = LSTM(16, activation='tanh', recurrent_activation='tanh', return_sequences=True, stateful=True)(middle)\n",
    "            middle = TimeDistributed(Dense(16, activation='elu'))(middle)\n",
    "            \n",
    "            qval_base = k.layers.concatenate([midqval, action, middle, premiddle, preqval])\n",
    "            \n",
    "            rewards = Dense(64, activation='elu')(qval_base)\n",
    "            rewards_base = LSTM(32, activation='tanh', recurrent_activation='tanh', return_sequences=True, stateful=True)(rewards)\n",
    "            rewards = Dense(32, activation='tanh')(rewards_base)\n",
    "            rewards = Dense(16, activation='elu')(rewards)\n",
    "            rewards = Dense(n_actions)(rewards)\n",
    "            \n",
    "            \n",
    "            \n",
    "            \n",
    "            probs_base = k.layers.concatenate([qval_base, rewards_base])\n",
    "            probs1 = Dense(64, activation='elu')(probs_base)\n",
    "            probs2 = Dense(64, activation='elu')(probs_base)\n",
    "            probs1 = Dense(32, activation='tanh')(probs1)\n",
    "            probs2 = Dense(32, activation = 'tanh')(probs2)\n",
    "            probs1 = Dense(8, activation ='elu')(probs1)\n",
    "            probs2 = Dense(8, activation='elu')(probs2)\n",
    "            probs = k.layers.concatenate([probs1,probs2])\n",
    "            probs = Dense(n_actions)(probs)\n",
    "            #probis = k.activations.sigmoid(probs)\n",
    "            probss = k.layers.Softmax()(probs)\n",
    "            \n",
    "            action = k.layers.Multiply()([action, probss])\n",
    "            qval = k.layers.concatenate([qval_base, action, probs])\n",
    "            qval = LSTM(64, activation='tanh', recurrent_activation='tanh', return_sequences=True, stateful=True)(qval_base)\n",
    "            qval = TimeDistributed(Dense(32, activation = 'elu'))(qval)\n",
    "            \n",
    "            #qval = k.layers.concatenate([qval, rewardswards])\n",
    "            \n",
    "            qval1 = Dense(16, activation='elu')(qval)\n",
    "            qval2 = Dense(16, activation='elu')(qval)\n",
    "            qval = k.layers.Multiply()([qval1,qval2])\n",
    "            qval = Dense(n_actions, activation = 'elu')(qval)\n",
    "            qval = k.layers.Add()([qval, rewards])\n",
    "            qval = k.layers.concatenate([probs, qval])\n",
    "            qval = k.layers.Dense(8, activation='elu')(qval)\n",
    "            qval = k.layers.Dense(2, activation='elu')(qval)\n",
    "            \n",
    "            qval = Dense(1)(qval)\n",
    "            \n",
    "            reward = k.layers.Multiply()([rewards, probs])\n",
    "            reward = Dense(4, activation='elu')(reward)\n",
    "            reward = Dense(2, activation='elu')(reward)\n",
    "            reward = Dense(1)(reward)\n",
    "            \n",
    "            \n",
    "            \n",
    "            \n",
    "            \n",
    "            \n",
    "            \n",
    "            self.mod = k.models.Model(inputs = self.state_t, outputs=[qval, action, probs, reward])\n",
    "\n",
    "            # prepare a graph for agent step\n",
    "            \n",
    "            self.agent_outputs = self.symbolic_step(self.state_t)\n",
    "        \n",
    "    def symbolic_step(self, state_t):\n",
    "        \"\"\"Takes agent's previous step and observation, returns next state and whatever it needs to learn (tf tensors)\"\"\"\n",
    "        \n",
    "        # Apply neural network\n",
    "        ### Your code here: apply agent's neural network to get policy logits and state values.\n",
    "        state_value, logits, prob, r = self.mod(state_t)\n",
    "        prob = prob[:,0,:]\n",
    "        r = r[:,0,0]\n",
    "        state_value=state_value[:,0,0]\n",
    "        logits = logits[:,0,:]\n",
    "        #probsb = probsb[:,0,:]\n",
    "        #logits = self.actions(output)[:,0]#output[:,1:]#<logits go here>\n",
    "        print(logits)\n",
    "        #state_value = self.qval(output)[:,0,0]#output[:,0]#<state values go here>\n",
    "        print(state_value)\n",
    "        assert tf.is_numeric_tensor(state_value) and state_value.shape.ndims == 1, \\\n",
    "            \"please return 1D tf tensor of state values [you got %s]\" % repr(state_value)\n",
    "        assert tf.is_numeric_tensor(logits) and logits.shape.ndims == 2, \\\n",
    "            \"please return 2d tf tensor of logits [you got %s]\" % repr(logits)\n",
    "        # hint: if you triggered state_values assert with your shape being [None, 1], \n",
    "        # just select [:, 0]-th element of state values as new state values\n",
    "        \n",
    "        return (logits, state_value, prob, r)\n",
    "    \n",
    "    def step(self, state_t):\n",
    "        \"\"\"Same as symbolic step except it operates on numpy arrays\"\"\"\n",
    "        sess = tf.get_default_session()\n",
    "        return sess.run(self.agent_outputs, {self.state_t: state_t})\n",
    "    \n",
    "    def sample_actions(self, agent_outputs):\n",
    "        \"\"\"pick actions given numeric agent outputs (np arrays)\"\"\"\n",
    "        logits, state_values, probs, rews = agent_outputs\n",
    "        policy = np.exp(probs) / np.sum(np.exp(probs), axis=-1, keepdims=True)\n",
    "        return np.array([np.random.choice(len(p), p=p) for p in policy])"
   ]
  },
  {
   "cell_type": "code",
   "execution_count": 7,
   "metadata": {},
   "outputs": [
    {
     "name": "stdout",
     "output_type": "stream",
     "text": [
      "Tensor(\"agent/strided_slice_3:0\", shape=(1, 4), dtype=float32)\n",
      "Tensor(\"agent/strided_slice_2:0\", shape=(1,), dtype=float32)\n"
     ]
    }
   ],
   "source": [
    "agent = Agent(\"agent\", obs_shape, n_actions)\n",
    "sess.run(tf.global_variables_initializer())"
   ]
  },
  {
   "cell_type": "code",
   "execution_count": 8,
   "metadata": {},
   "outputs": [
    {
     "name": "stdout",
     "output_type": "stream",
     "text": [
      "action logits:\n",
      " [[ 3.1084885e-06 -1.1674704e-06 -1.3718098e-06  6.3967841e-06]]\n",
      "state values:\n",
      " [-8.652793e-06]\n"
     ]
    }
   ],
   "source": [
    "state = [env.reset()]\n",
    "logits, value, probs, rews = agent.step(state)\n",
    "print(\"action logits:\\n\", logits)\n",
    "print(\"state values:\\n\", value)"
   ]
  },
  {
   "cell_type": "code",
   "execution_count": 9,
   "metadata": {},
   "outputs": [],
   "source": [
    "def evaluate(agent, env, n_games=1):\n",
    "    \"\"\"Plays an a game from start till done, returns per-game rewards \"\"\"\n",
    "\n",
    "    game_rewards = []\n",
    "    for _ in range(n_games):\n",
    "        state = env.reset()\n",
    "        \n",
    "        total_reward = 0\n",
    "        while True:\n",
    "            action = agent.sample_actions(agent.step([state]))[0]\n",
    "            state, reward, done, info = env.step(action)\n",
    "            total_reward += reward\n",
    "            if done: break\n",
    "                \n",
    "        game_rewards.append(total_reward)\n",
    "    return game_rewards\n"
   ]
  },
  {
   "cell_type": "code",
   "execution_count": 10,
   "metadata": {},
   "outputs": [
    {
     "name": "stdout",
     "output_type": "stream",
     "text": [
      "[1.0, 0.0, 2.0]\n"
     ]
    }
   ],
   "source": [
    "env_monitor = gym.wrappers.Monitor(env, directory=\"kung10\", force=True)\n",
    "rw = evaluate(agent, env_monitor, n_games=3,)\n",
    "env_monitor.close()\n",
    "print (rw)"
   ]
  },
  {
   "cell_type": "code",
   "execution_count": 11,
   "metadata": {},
   "outputs": [
    {
     "data": {
      "text/html": [
       "\n",
       "<video width=\"640\" height=\"480\" controls>\n",
       "  <source src=\"./kung10/openaigym.video.0.16036.video000001.mp4\" type=\"video/mp4\">\n",
       "</video>\n"
      ],
      "text/plain": [
       "<IPython.core.display.HTML object>"
      ]
     },
     "execution_count": 11,
     "metadata": {},
     "output_type": "execute_result"
    }
   ],
   "source": [
    "#show video\n",
    "from IPython.display import HTML\n",
    "import os\n",
    "\n",
    "video_names = list(filter(lambda s:s.endswith(\".mp4\"),os.listdir(\"./kung10/\")))\n",
    "\n",
    "HTML(\"\"\"\n",
    "<video width=\"640\" height=\"480\" controls>\n",
    "  <source src=\"{}\" type=\"video/mp4\">\n",
    "</video>\n",
    "\"\"\".format(\"./kung10/\"+video_names[-1])) #this may or may not be _last_ video. Try other indices\n",
    "\n"
   ]
  },
  {
   "cell_type": "code",
   "execution_count": 12,
   "metadata": {},
   "outputs": [],
   "source": [
    "class EnvBatch:\n",
    "    def __init__(self, n_envs = 10):\n",
    "        \"\"\" Creates n_envs environments and babysits them for ya' \"\"\"\n",
    "        self.envs = [make_env() for _ in range(n_envs)]\n",
    "        self.old_infos = None\n",
    "        \n",
    "    def reset(self):\n",
    "        \"\"\" Reset all games and return [n_envs, *obs_shape] observations \"\"\"\n",
    "        print(len(self.envs))\n",
    "        return np.array([env.reset() for env in self.envs])\n",
    "    \n",
    "    def step(self, actions):\n",
    "        \"\"\"\n",
    "        Send a vector[batch_size] of actions into respective environments\n",
    "        :returns: observations[n_envs, *obs_shape], rewards[n_envs], done[n_envs,], info[n_envs]\n",
    "        \"\"\"\n",
    "        results = [env.step(a) for env, a in zip(self.envs, actions)]\n",
    "        #print(results)\n",
    "        new_obs, rewards, done, infos = map(np.array, zip(*results))\n",
    "        if self.old_infos is not None:\n",
    "            for i in range(len(infos)):\n",
    "                if infos[i]['ale.lives']< self.old_infos[i]['ale.lives']:\n",
    "                    rewards[i] = -20\n",
    "        self.old_infos = infos\n",
    "        # reset environments automatically\n",
    "        for i in range(len(self.envs)):\n",
    "            if done[i]:\n",
    "                new_obs[i] = self.envs[i].reset()\n",
    "        \n",
    "        return new_obs, rewards, done, infos"
   ]
  },
  {
   "cell_type": "code",
   "execution_count": 13,
   "metadata": {},
   "outputs": [
    {
     "name": "stderr",
     "output_type": "stream",
     "text": [
      "/home/mew/.local/lib/python3.6/site-packages/gym/envs/registration.py:14: PkgResourcesDeprecationWarning: Parameters to load are deprecated.  Call .resolve and .require separately.\n",
      "  result = entry_point.load(False)\n"
     ]
    },
    {
     "name": "stdout",
     "output_type": "stream",
     "text": [
      "\u001b[33mWARN: gym.spaces.Box autodetected dtype as <class 'numpy.float32'>. Please provide explicit dtype.\u001b[0m\n",
      "1\n",
      "State shape: (1, 81, 81, 4)\n",
      "Actions: [3]\n",
      "Rewards: [0.]\n",
      "Done: [False]\n"
     ]
    }
   ],
   "source": [
    "env_batch = EnvBatch(1)\n",
    "\n",
    "batch_states = env_batch.reset()\n",
    "\n",
    "batch_actions = agent.sample_actions(agent.step(batch_states))\n",
    "\n",
    "batch_next_states, batch_rewards, batch_done, _ = env_batch.step(batch_actions)\n",
    "print(\"State shape:\", batch_states.shape)\n",
    "print(\"Actions:\", batch_actions[:3])\n",
    "print(\"Rewards:\", batch_rewards[:3])\n",
    "print(\"Done:\", batch_done[:3])\n"
   ]
  },
  {
   "cell_type": "code",
   "execution_count": 14,
   "metadata": {},
   "outputs": [],
   "source": [
    "# These placeholders mean exactly the same as in \"Let's try it out\" section above\n",
    "states_ph = tf.placeholder('float32', [None,] + list(obs_shape))    \n",
    "next_states_ph = tf.placeholder('float32', [None,] + list(obs_shape))\n",
    "actions_ph = tf.placeholder('int32', (None,))\n",
    "rewards_ph = tf.placeholder('float32', (None,))\n",
    "is_done_ph = tf.placeholder('float32', (None,))\n",
    "agent_probs = tf.placeholder('float32', [None, n_actions])\n",
    "agent_rewards = tf.placeholder('float32', [None, n_actions])"
   ]
  },
  {
   "cell_type": "code",
   "execution_count": 15,
   "metadata": {},
   "outputs": [
    {
     "name": "stdout",
     "output_type": "stream",
     "text": [
      "Tensor(\"strided_slice_3:0\", shape=(1, 4), dtype=float32)\n",
      "Tensor(\"strided_slice_2:0\", shape=(1,), dtype=float32)\n",
      "Tensor(\"strided_slice_7:0\", shape=(1, 4), dtype=float32)\n",
      "Tensor(\"strided_slice_6:0\", shape=(1,), dtype=float32)\n"
     ]
    }
   ],
   "source": [
    "# logits[n_envs, n_actions] and state_values[n_envs, n_actions]\n",
    "logits, state_values, agent_probs, _ = agent.symbolic_step(states_ph)\n",
    "next_logits, next_state_values, _, agent_reward = agent.symbolic_step(next_states_ph)\n",
    "next_state_values = next_state_values * (1 - is_done_ph)\n",
    "\n",
    "# probabilities and log-probabilities for all actions\n",
    "probs = tf.nn.softmax(logits)            # [n_envs, n_actions]\n",
    "logprobs = tf.nn.log_softmax(logits)     # [n_envs, n_actions]\n",
    "agent_logprobs = tf.nn.log_softmax(agent_probs)\n",
    "agent_probs = tf.nn.softmax(agent_probs)\n",
    "agent_logp = tf.reduce_sum(agent_logprobs * tf.one_hot(actions_ph, n_actions), axis=-1) # [n_envs,]\n",
    "# log-probabilities only for agent's chosen actions\n",
    "logp_actions = tf.reduce_sum(logprobs * tf.one_hot(actions_ph, n_actions), axis=-1) # [n_envs,]"
   ]
  },
  {
   "cell_type": "code",
   "execution_count": 16,
   "metadata": {},
   "outputs": [
    {
     "name": "stdout",
     "output_type": "stream",
     "text": [
      "Tensor(\"Softmax:0\", shape=(1, 4), dtype=float32)\n",
      "Tensor(\"sub_2:0\", shape=(1,), dtype=float32)\n"
     ]
    }
   ],
   "source": [
    "\n",
    "\n",
    "# compute advantage using rewards_ph, state_values and next_state_values\n",
    "gamma = 0.99\n",
    "advantage = rewards_ph + gamma * next_state_values - state_values\n",
    "\n",
    "assert advantage.shape.ndims == 1, \"please compute advantage for each sample, vector of shape [n_envs,]\"\n",
    "\n",
    "# compute policy entropy given logits_seq. Mind the \"-\" sign!\n",
    "print(probs)\n",
    "entropy = - tf.reduce_sum(agent_probs*agent_logprobs, axis=-1) - tf.reduce_sum(probs*logprobs, axis=-1)\n",
    "print(entropy)\n",
    "assert entropy.shape.ndims == 1, \"please compute pointwise entropy vector of shape [n_envs,] \"\n",
    "\n",
    "decay = 0.999\n",
    "mul = 0.009\n",
    "\n",
    "#actor_loss =  - tf.reduce_mean(agent_logp * tf.stop_gradient(advantage)) - mul * tf.reduce_mean(entropy)\n",
    "actor_loss =  - tf.reduce_mean(agent_logp * tf.stop_gradient(advantage)) - tf.reduce_mean(logp_actions * tf.stop_gradient(advantage)) - mul *  tf.reduce_mean(entropy)\n",
    "#actor_loss =   tf.reduce_mean(entropy)\n",
    "# compute target state values using temporal difference formula. Use rewards_ph and next_step_values\n",
    "target_state_values = rewards_ph + gamma*next_state_values\n",
    "#critic_loss = tf.reduce_mean(state_values-state_values)\n",
    "critic_loss = tf.reduce_mean((state_values - tf.stop_gradient(target_state_values))**2 )# - tf.reduce_mean(state_values)*0.001 \n",
    "critic_loss = critic_loss + tf.reduce_mean(k.losses.binary_crossentropy(tf.stop_gradient(probs), agent_probs))\n",
    "critic_loss = critic_loss + tf.reduce_mean((agent_reward - tf.stop_gradient(rewards_ph))**2)\n",
    "optimizer = tf.train.AdamOptimizer(5e-5)\n",
    "gradients, variables = zip(*optimizer.compute_gradients(actor_loss))# + critic_loss))\n",
    "gradients, _ = tf.clip_by_global_norm(gradients, 2.0)\n",
    "train_step = optimizer.apply_gradients(zip(gradients, variables))\n",
    "sess.run(tf.global_variables_initializer())"
   ]
  },
  {
   "cell_type": "code",
   "execution_count": 17,
   "metadata": {},
   "outputs": [
    {
     "name": "stdout",
     "output_type": "stream",
     "text": [
      "You just might be fine!\n"
     ]
    }
   ],
   "source": [
    "# Sanity checks to catch some errors. Specific to KungFuMaster in assignment's default setup.\n",
    "l_act, l_crit, adv, ent = sess.run([actor_loss, critic_loss, advantage, entropy], feed_dict = {\n",
    "        states_ph: batch_states,\n",
    "        actions_ph: batch_actions,\n",
    "        next_states_ph: batch_states,\n",
    "        rewards_ph: batch_rewards,\n",
    "        is_done_ph: batch_done,\n",
    "    })\n",
    "\n",
    "assert abs(l_act) < 100 and abs(l_crit) < 100, \"losses seem abnormally large\"\n",
    "#assert 0 <= ent.mean() <= np.log(n_actions), \"impossible entropy value, double-check the formula pls\"\n",
    "if ent.mean() < np.log(n_actions) / 2: print(\"Entropy is too low for untrained agent\")\n",
    "print(\"You just might be fine!\")"
   ]
  },
  {
   "cell_type": "code",
   "execution_count": null,
   "metadata": {},
   "outputs": [
    {
     "name": "stderr",
     "output_type": "stream",
     "text": [
      "/home/mew/.local/lib/python3.6/site-packages/gym/envs/registration.py:14: PkgResourcesDeprecationWarning: Parameters to load are deprecated.  Call .resolve and .require separately.\n",
      "  result = entry_point.load(False)\n"
     ]
    },
    {
     "name": "stdout",
     "output_type": "stream",
     "text": [
      "\u001b[33mWARN: gym.spaces.Box autodetected dtype as <class 'numpy.float32'>. Please provide explicit dtype.\u001b[0m\n",
      "1\n"
     ]
    }
   ],
   "source": [
    "from IPython.display import clear_output\n",
    "from tqdm import trange\n",
    "from pandas import DataFrame\n",
    "ewma = lambda x, span=100: DataFrame({'x':np.asarray(x)}).x.ewm(span=span).mean().values\n",
    "\n",
    "env_batch = EnvBatch(1)\n",
    "batch_states = env_batch.reset()\n",
    "\n",
    "rewards_history = []\n",
    "entropy_history = []"
   ]
  },
  {
   "cell_type": "code",
   "execution_count": null,
   "metadata": {},
   "outputs": [
    {
     "data": {
      "image/png": "[encoded data removed]",
      "text/plain": [
       "<Figure size 1152x720 with 2 Axes>"
      ]
     },
     "metadata": {},
     "output_type": "display_data"
    },
    {
     "name": "stderr",
     "output_type": "stream",
     "text": [
      "  0%|          | 5835/5000000 [05:27<80:21:53, 17.26it/s] "
     ]
    }
   ],
   "source": [
    "for i in trange(5000000): \n",
    "    \n",
    "    batch_actions = agent.sample_actions(agent.step(batch_states))\n",
    "    batch_next_states, batch_rewards, batch_done, _ = env_batch.step(batch_actions)\n",
    "    \n",
    "    feed_dict = {\n",
    "        states_ph: batch_states,\n",
    "        actions_ph: batch_actions,\n",
    "        next_states_ph: batch_next_states,\n",
    "        rewards_ph: batch_rewards,\n",
    "        is_done_ph: batch_done,\n",
    "    }\n",
    "    if batch_done[0] > 0.5:\n",
    "        agent.mod.reset_states()\n",
    "    batch_states = batch_next_states\n",
    "    if mul >= 0.000005:\n",
    "        mul *= decay\n",
    "    _, ent_t = sess.run([train_step, entropy], feed_dict)\n",
    "    entropy_history.append(np.mean(ent_t))\n",
    "\n",
    "    if i % 500 == 0: \n",
    "        if i % 10000 == 0:\n",
    "            rewards_history.append(np.mean(evaluate(agent, env, n_games=3)))\n",
    "            if rewards_history[-1] >= 50:\n",
    "                print(\"Your agent has earned the yellow belt\")# % color)\n",
    "\n",
    "        clear_output(True)\n",
    "        plt.figure(figsize=[16,10])\n",
    "        plt.subplot(1,2,1)\n",
    "        plt.plot(rewards_history, label='rewards')\n",
    "        plt.plot(ewma(np.array(rewards_history),span=10), marker='.', label='rewards ewma@10')\n",
    "        plt.title(\"Session rewards\"); plt.grid(); plt.legend()\n",
    "        \n",
    "        plt.subplot(1,2,2)\n",
    "        plt.plot(entropy_history, label='entropy')\n",
    "        plt.plot(ewma(np.array(entropy_history),span=1000), label='entropy ewma@1000')\n",
    "        plt.title(\"Policy entropy\"); plt.grid(); plt.legend()        \n",
    "        plt.show()\n",
    "        \n",
    "        \n",
    "\n"
   ]
  },
  {
   "cell_type": "code",
   "execution_count": null,
   "metadata": {},
   "outputs": [],
   "source": []
  },
  {
   "cell_type": "code",
   "execution_count": null,
   "metadata": {},
   "outputs": [],
   "source": []
  }
 ],
 "metadata": {
  "kernelspec": {
   "display_name": "Python 3",
   "language": "python",
   "name": "python3"
  },
  "language_info": {
   "codemirror_mode": {
    "name": "ipython",
    "version": 3
   },
   "file_extension": ".py",
   "mimetype": "text/x-python",
   "name": "python",
   "nbconvert_exporter": "python",
   "pygments_lexer": "ipython3",
   "version": "3.6.7"
  }
 },
 "nbformat": 4,
 "nbformat_minor": 2
}
